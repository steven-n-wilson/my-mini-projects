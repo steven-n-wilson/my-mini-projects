{
 "cells": [
  {
   "cell_type": "markdown",
   "metadata": {},
   "source": [
    "# PDFs and Spreadsheets Puzzle Exercise\n",
    "\n",
    "Let's test your skills, the files needed for this puzzle exercise\n",
    "\n",
    "You will need to work with two files for this exercise and solve the following tasks:\n",
    "\n",
    "* Task One: Use Python to extract the Google Drive link from the .csv file. (Hint: Its along the diagonal from top left to bottom right).\n",
    "* Task Two: Download the PDF from the Google Drive link (we already downloaded it for you just in case you can't download from Google Drive) and find the phone number that is in the document. Note: There are different ways of formatting a phone number!"
   ]
  },
  {
   "cell_type": "markdown",
   "metadata": {},
   "source": [
    "## Task One: Grab the Google Drive Link from .csv File"
   ]
  },
  {
   "cell_type": "code",
   "execution_count": 1,
   "metadata": {},
   "outputs": [],
   "source": [
    "import csv"
   ]
  },
  {
   "cell_type": "code",
   "execution_count": 25,
   "metadata": {},
   "outputs": [
    {
     "name": "stdout",
     "output_type": "stream",
     "text": [
      "https://drive.google.com/open?id=1G6SEgg018UB4_4xsAJJ5TdzrhmXipr4Q\n"
     ]
    }
   ],
   "source": [
    "# THe correct result is shown below, if you can't download ffrom Google Drive, \n",
    "# we added the PDF file to the Exercise_Files folder already\n",
    "\n",
    "data = open('Exercise_Files/find_the_link.csv', encoding='utf-8')\n",
    "\n",
    "csv_data =  csv.reader(data)\n",
    "data_lines = list(csv_data)\n",
    "\n",
    "url=\"\"\n",
    "for i in range(len(data_lines)):\n",
    "    url+=data_lines[i][i]\n",
    "    \n",
    "print(url)\n",
    "\n",
    "# data_lines[0][0]\n",
    "# data_lines[1][1]\n",
    "# data_lines[2][2]\n",
    "# data_lines[3][3]"
   ]
  },
  {
   "cell_type": "markdown",
   "metadata": {},
   "source": [
    "## Task Two: Download the PDF from the Google Drive link and find the phone number that is in the document. "
   ]
  },
  {
   "cell_type": "code",
   "execution_count": 45,
   "metadata": {},
   "outputs": [
    {
     "name": "stdout",
     "output_type": "stream",
     "text": [
      "505 503 4455 in Page 13\n"
     ]
    }
   ],
   "source": [
    "# You should get this phone number\n",
    "# 505 503 4455\n",
    "\n",
    "import PyPDF2\n",
    "\n",
    "f = open('Exercise_Files/Find_the_Phone_Number.pdf','rb')\n",
    "\n",
    "pdf_reader = PyPDF2.PdfFileReader(f)\n",
    "\n",
    "for i in range(pdf_reader.numPages):\n",
    "    if \"505.503.4455\" in pdf_reader.getPage(i).extractText():\n",
    "        print(f'505 503 4455 in Page {i}')\n",
    "        \n",
    "# You can use regular expressions too\n"
   ]
  },
  {
   "cell_type": "code",
   "execution_count": null,
   "metadata": {},
   "outputs": [],
   "source": []
  }
 ],
 "metadata": {
  "anaconda-cloud": {},
  "kernelspec": {
   "display_name": "Python 3",
   "language": "python",
   "name": "python3"
  },
  "language_info": {
   "codemirror_mode": {
    "name": "ipython",
    "version": 3
   },
   "file_extension": ".py",
   "mimetype": "text/x-python",
   "name": "python",
   "nbconvert_exporter": "python",
   "pygments_lexer": "ipython3",
   "version": "3.7.9"
  }
 },
 "nbformat": 4,
 "nbformat_minor": 2
}
