{
 "cells": [
  {
   "cell_type": "code",
   "execution_count": 1,
   "metadata": {},
   "outputs": [
    {
     "data": {
      "text/plain": [
       "'C:\\\\Users\\\\steve\\\\Documents\\\\GitHub\\\\my_projects\\\\Complete-Python-3-Bootcamp\\\\12-Advanced Python Modules'"
      ]
     },
     "execution_count": 1,
     "metadata": {},
     "output_type": "execute_result"
    }
   ],
   "source": [
    "pwd"
   ]
  },
  {
   "cell_type": "code",
   "execution_count": 2,
   "metadata": {},
   "outputs": [],
   "source": [
    "f = open('practice.txt', 'w+')\n",
    "f.write('This is a test string')\n",
    "f.close()"
   ]
  },
  {
   "cell_type": "code",
   "execution_count": 4,
   "metadata": {},
   "outputs": [],
   "source": [
    "import os"
   ]
  },
  {
   "cell_type": "code",
   "execution_count": 5,
   "metadata": {},
   "outputs": [
    {
     "data": {
      "text/plain": [
       "'C:\\\\Users\\\\steve\\\\Documents\\\\GitHub\\\\my_projects\\\\Complete-Python-3-Bootcamp\\\\12-Advanced Python Modules'"
      ]
     },
     "execution_count": 5,
     "metadata": {},
     "output_type": "execute_result"
    }
   ],
   "source": [
    "os.getcwd()"
   ]
  },
  {
   "cell_type": "code",
   "execution_count": 14,
   "metadata": {},
   "outputs": [
    {
     "data": {
      "text/plain": [
       "['All Users',\n",
       " 'Default',\n",
       " 'Default User',\n",
       " 'desktop.ini',\n",
       " 'Public',\n",
       " 'steve',\n",
       " 'test']"
      ]
     },
     "execution_count": 14,
     "metadata": {},
     "output_type": "execute_result"
    }
   ],
   "source": [
    "os.listdir('C:\\\\Users')"
   ]
  },
  {
   "cell_type": "code",
   "execution_count": 8,
   "metadata": {},
   "outputs": [],
   "source": [
    "import shutil"
   ]
  },
  {
   "cell_type": "code",
   "execution_count": 12,
   "metadata": {},
   "outputs": [
    {
     "data": {
      "text/plain": [
       "'C:\\\\Users\\\\steve\\\\Documents\\\\GitHub\\\\my_projects\\\\Complete-Python-3-Bootcamp\\\\12-Advanced Python Modules\\\\practice.txt'"
      ]
     },
     "execution_count": 12,
     "metadata": {},
     "output_type": "execute_result"
    }
   ],
   "source": [
    "shutil.move('C:\\\\Users\\\\steve\\\\practice.txt', os.getcwd())"
   ]
  },
  {
   "cell_type": "code",
   "execution_count": 11,
   "metadata": {},
   "outputs": [],
   "source": [
    "import send2trash"
   ]
  },
  {
   "cell_type": "code",
   "execution_count": 15,
   "metadata": {},
   "outputs": [],
   "source": [
    "send2trash.send2trash('practice.txt')"
   ]
  },
  {
   "cell_type": "code",
   "execution_count": 16,
   "metadata": {},
   "outputs": [
    {
     "data": {
      "text/plain": [
       "['.ipynb_checkpoints',\n",
       " '00-Collections-Module.ipynb',\n",
       " '01-Opening-and-Reading-Files-Folders.ipynb',\n",
       " '02-Datetime-Module.ipynb',\n",
       " '03-Math-and-Random-Module.ipynb',\n",
       " '04-Python Debugger (pdb).ipynb',\n",
       " '05-Overview-of-Regular-Expressions.ipynb',\n",
       " '06-Timing your code - timeit.ipynb',\n",
       " '07-Unzipping-and-Zipping-Files.ipynb',\n",
       " '08-Advanced-Python-Module-Exercise',\n",
       " 'Example_Top_Level',\n",
       " 'Untitled.ipynb']"
      ]
     },
     "execution_count": 16,
     "metadata": {},
     "output_type": "execute_result"
    }
   ],
   "source": [
    "os.listdir()"
   ]
  },
  {
   "cell_type": "code",
   "execution_count": 17,
   "metadata": {},
   "outputs": [
    {
     "data": {
      "text/plain": [
       "'C:\\\\Users\\\\steve\\\\Documents\\\\GitHub\\\\my_projects\\\\Complete-Python-3-Bootcamp\\\\12-Advanced Python Modules'"
      ]
     },
     "execution_count": 17,
     "metadata": {},
     "output_type": "execute_result"
    }
   ],
   "source": [
    "os.getcwd()"
   ]
  },
  {
   "cell_type": "code",
   "execution_count": 18,
   "metadata": {},
   "outputs": [],
   "source": [
    "\n",
    "file_path = 'C:\\\\Users\\\\steve\\\\Documents\\\\GitHub\\\\my_projects\\\\Complete-Python-3-Bootcamp\\\\12-Advanced Python Modules\\\\Example_Top_Level'\n"
   ]
  },
  {
   "cell_type": "code",
   "execution_count": 20,
   "metadata": {},
   "outputs": [
    {
     "name": "stdout",
     "output_type": "stream",
     "text": [
      "currently looking at C:\\Users\\steve\\Documents\\GitHub\\my_projects\\Complete-Python-3-Bootcamp\\12-Advanced Python Modules\\Example_Top_Level\n",
      "\n",
      "the subfolders are:\n",
      "\tsubfolder: Mid-Example-One\n",
      "\n",
      "the file are: \n",
      "\tfiles: Mid-Example.txt\n",
      "\n",
      "currently looking at C:\\Users\\steve\\Documents\\GitHub\\my_projects\\Complete-Python-3-Bootcamp\\12-Advanced Python Modules\\Example_Top_Level\\Mid-Example-One\n",
      "\n",
      "the subfolders are:\n",
      "\tsubfolder: Bottom-Level-One\n",
      "\tsubfolder: Bottom-Level-Two\n",
      "\n",
      "the file are: \n",
      "\tfiles: Mid-Level-Doc.txt\n",
      "\n",
      "currently looking at C:\\Users\\steve\\Documents\\GitHub\\my_projects\\Complete-Python-3-Bootcamp\\12-Advanced Python Modules\\Example_Top_Level\\Mid-Example-One\\Bottom-Level-One\n",
      "\n",
      "the subfolders are:\n",
      "\n",
      "the file are: \n",
      "\tfiles: One_Text.txt\n",
      "\n",
      "currently looking at C:\\Users\\steve\\Documents\\GitHub\\my_projects\\Complete-Python-3-Bootcamp\\12-Advanced Python Modules\\Example_Top_Level\\Mid-Example-One\\Bottom-Level-Two\n",
      "\n",
      "the subfolders are:\n",
      "\n",
      "the file are: \n",
      "\tfiles: Bottom-Text-Two.txt\n",
      "\n"
     ]
    }
   ],
   "source": [
    "for folder, sub_folders, files in os.walk(file_path):\n",
    "    print(f'currently looking at {folder}')\n",
    "    print()\n",
    "    print('the subfolders are:')\n",
    "    for sub_fold in sub_folders:\n",
    "        print(f'\\tsubfolder: {sub_fold}')\n",
    "        \n",
    "    print()\n",
    "    print('the file are: ')\n",
    "    for f in files:\n",
    "        print(f'\\tfiles: {f}')\n",
    "    print()"
   ]
  },
  {
   "cell_type": "code",
   "execution_count": null,
   "metadata": {},
   "outputs": [],
   "source": []
  }
 ],
 "metadata": {
  "kernelspec": {
   "display_name": "Python 3",
   "language": "python",
   "name": "python3"
  },
  "language_info": {
   "codemirror_mode": {
    "name": "ipython",
    "version": 3
   },
   "file_extension": ".py",
   "mimetype": "text/x-python",
   "name": "python",
   "nbconvert_exporter": "python",
   "pygments_lexer": "ipython3",
   "version": "3.7.6"
  }
 },
 "nbformat": 4,
 "nbformat_minor": 4
}
